{
 "cells": [
  {
   "cell_type": "code",
   "execution_count": null,
   "metadata": {},
   "outputs": [],
   "source": []
  },
  {
   "cell_type": "code",
   "execution_count": 2,
   "metadata": {
    "execution": {
     "iopub.execute_input": "2020-08-23T13:02:25.952534Z",
     "iopub.status.busy": "2020-08-23T13:02:25.952268Z",
     "iopub.status.idle": "2020-08-23T13:02:26.154986Z",
     "shell.execute_reply": "2020-08-23T13:02:26.154312Z",
     "shell.execute_reply.started": "2020-08-23T13:02:25.952506Z"
    }
   },
   "outputs": [],
   "source": [
    "import torch"
   ]
  },
  {
   "cell_type": "code",
   "execution_count": 61,
   "metadata": {
    "execution": {
     "iopub.execute_input": "2020-08-23T13:40:36.144171Z",
     "iopub.status.busy": "2020-08-23T13:40:36.143909Z",
     "iopub.status.idle": "2020-08-23T13:40:36.147444Z",
     "shell.execute_reply": "2020-08-23T13:40:36.146829Z",
     "shell.execute_reply.started": "2020-08-23T13:40:36.144129Z"
    }
   },
   "outputs": [],
   "source": [
    "x = torch.ones((1, 1), requires_grad=True)"
   ]
  },
  {
   "cell_type": "markdown",
   "metadata": {},
   "source": [
    "Gradients are accumulating! x is not updated!"
   ]
  },
  {
   "cell_type": "code",
   "execution_count": 63,
   "metadata": {
    "execution": {
     "iopub.execute_input": "2020-08-23T13:40:39.946704Z",
     "iopub.status.busy": "2020-08-23T13:40:39.946463Z",
     "iopub.status.idle": "2020-08-23T13:40:39.959011Z",
     "shell.execute_reply": "2020-08-23T13:40:39.958400Z",
     "shell.execute_reply.started": "2020-08-23T13:40:39.946678Z"
    }
   },
   "outputs": [
    {
     "name": "stdout",
     "output_type": "stream",
     "text": [
      "tensor([[1.]], requires_grad=True) tensor([[2.]])\n",
      "tensor([[1.]], requires_grad=True) tensor([[4.]])\n",
      "tensor([[1.]], requires_grad=True) tensor([[6.]])\n",
      "tensor([[1.]], requires_grad=True) tensor([[8.]])\n",
      "tensor([[1.]], requires_grad=True) tensor([[10.]])\n",
      "tensor([[1.]], requires_grad=True) tensor([[12.]])\n",
      "tensor([[1.]], requires_grad=True) tensor([[14.]])\n",
      "tensor([[1.]], requires_grad=True) tensor([[16.]])\n",
      "tensor([[1.]], requires_grad=True) tensor([[18.]])\n",
      "tensor([[1.]], requires_grad=True) tensor([[20.]])\n"
     ]
    }
   ],
   "source": [
    "for _ in range(10):  # any normal python code, really!\n",
    "    y = x ** 2\n",
    "    y.backward()\n",
    "    print(x, x.grad)"
   ]
  },
  {
   "cell_type": "code",
   "execution_count": 64,
   "metadata": {
    "execution": {
     "iopub.execute_input": "2020-08-23T13:40:52.259983Z",
     "iopub.status.busy": "2020-08-23T13:40:52.259737Z",
     "iopub.status.idle": "2020-08-23T13:40:52.265901Z",
     "shell.execute_reply": "2020-08-23T13:40:52.265313Z",
     "shell.execute_reply.started": "2020-08-23T13:40:52.259956Z"
    }
   },
   "outputs": [],
   "source": [
    "with torch.autograd.profiler.profile() as prof:\n",
    "    for _ in range(10):  # any normal python code, really!\n",
    "        y = x ** 2\n",
    "        y.backward()"
   ]
  },
  {
   "cell_type": "code",
   "execution_count": 67,
   "metadata": {
    "execution": {
     "iopub.execute_input": "2020-08-23T13:44:06.422471Z",
     "iopub.status.busy": "2020-08-23T13:44:06.422222Z",
     "iopub.status.idle": "2020-08-23T13:44:06.426626Z",
     "shell.execute_reply": "2020-08-23T13:44:06.425978Z",
     "shell.execute_reply.started": "2020-08-23T13:44:06.422445Z"
    }
   },
   "outputs": [
    {
     "name": "stdout",
     "output_type": "stream",
     "text": [
      "-----------------------------------  ---------------  ---------------  ---------------  ---------------  ---------------  ---------------  ---------------  ---------------  ---------------  \n",
      "Name                                 Self CPU total %  Self CPU total   CPU total %      CPU total        CPU time avg     CUDA total %     CUDA total       CUDA time avg    Number of Calls  \n",
      "-----------------------------------  ---------------  ---------------  ---------------  ---------------  ---------------  ---------------  ---------------  ---------------  ---------------  \n",
      "pow                                  50.58%           219.194us        50.58%           219.194us        10.960us         NaN              0.000us          0.000us          20               \n",
      "mul                                  28.96%           125.497us        28.96%           125.497us        6.275us          NaN              0.000us          0.000us          20               \n",
      "PowBackward0                         9.34%            40.498us         56.92%           246.691us        24.669us         NaN              0.000us          0.000us          10               \n",
      "add_                                 6.83%            29.598us         6.83%            29.598us         2.960us          NaN              0.000us          0.000us          10               \n",
      "torch::autograd::AccumulateGrad      3.35%            14.500us         10.18%           44.098us         4.410us          NaN              0.000us          0.000us          10               \n",
      "torch::autograd::GraphRoot           0.95%            4.099us          0.95%            4.099us          0.410us          NaN              0.000us          0.000us          10               \n",
      "-----------------------------------  ---------------  ---------------  ---------------  ---------------  ---------------  ---------------  ---------------  ---------------  ---------------  \n",
      "Self CPU time total: 433.386us\n",
      "CUDA time total: 0.000us\n",
      "\n"
     ]
    }
   ],
   "source": [
    "print(prof.key_averages().table(sort_by=\"self_cpu_time_total\", row_limit=100))"
   ]
  },
  {
   "cell_type": "code",
   "execution_count": 66,
   "metadata": {
    "execution": {
     "iopub.execute_input": "2020-08-23T13:43:02.472957Z",
     "iopub.status.busy": "2020-08-23T13:43:02.472721Z",
     "iopub.status.idle": "2020-08-23T13:43:02.477157Z",
     "shell.execute_reply": "2020-08-23T13:43:02.476463Z",
     "shell.execute_reply.started": "2020-08-23T13:43:02.472930Z"
    }
   },
   "outputs": [
    {
     "data": {
      "text/plain": [
       "433.3860000000004"
      ]
     },
     "execution_count": 66,
     "metadata": {},
     "output_type": "execute_result"
    }
   ],
   "source": [
    "prof.self_cpu_time_total"
   ]
  },
  {
   "cell_type": "markdown",
   "metadata": {},
   "source": [
    "### PyProf Package\n",
    "\n",
    "* https://pypi.org/project/torchprof/\n",
    "* All metrics are derived using the PyTorch autograd profiler."
   ]
  },
  {
   "cell_type": "code",
   "execution_count": 75,
   "metadata": {
    "execution": {
     "iopub.execute_input": "2020-08-23T13:56:12.358739Z",
     "iopub.status.busy": "2020-08-23T13:56:12.358490Z",
     "iopub.status.idle": "2020-08-23T13:56:12.361360Z",
     "shell.execute_reply": "2020-08-23T13:56:12.360787Z",
     "shell.execute_reply.started": "2020-08-23T13:56:12.358712Z"
    }
   },
   "outputs": [],
   "source": [
    "#pip install torchprof\n",
    "#pip install torchsummary"
   ]
  },
  {
   "cell_type": "code",
   "execution_count": 77,
   "metadata": {
    "execution": {
     "iopub.execute_input": "2020-08-23T13:56:20.992845Z",
     "iopub.status.busy": "2020-08-23T13:56:20.992600Z",
     "iopub.status.idle": "2020-08-23T13:56:20.995975Z",
     "shell.execute_reply": "2020-08-23T13:56:20.995335Z",
     "shell.execute_reply.started": "2020-08-23T13:56:20.992818Z"
    }
   },
   "outputs": [],
   "source": [
    "from torchsummary import summary\n",
    "import torch\n",
    "import torchvision\n",
    "import torchprof"
   ]
  },
  {
   "cell_type": "code",
   "execution_count": 78,
   "metadata": {
    "execution": {
     "iopub.execute_input": "2020-08-23T13:56:26.534444Z",
     "iopub.status.busy": "2020-08-23T13:56:26.534197Z",
     "iopub.status.idle": "2020-08-23T13:56:26.898938Z",
     "shell.execute_reply": "2020-08-23T13:56:26.898251Z",
     "shell.execute_reply.started": "2020-08-23T13:56:26.534417Z"
    }
   },
   "outputs": [],
   "source": [
    "model = torchvision.models.alexnet(pretrained=False).cuda()"
   ]
  },
  {
   "cell_type": "code",
   "execution_count": 85,
   "metadata": {
    "execution": {
     "iopub.execute_input": "2020-08-23T14:00:42.042777Z",
     "iopub.status.busy": "2020-08-23T14:00:42.042530Z",
     "iopub.status.idle": "2020-08-23T14:00:42.047200Z",
     "shell.execute_reply": "2020-08-23T14:00:42.046525Z",
     "shell.execute_reply.started": "2020-08-23T14:00:42.042750Z"
    }
   },
   "outputs": [
    {
     "data": {
      "text/plain": [
       "AlexNet(\n",
       "  (features): Sequential(\n",
       "    (0): Conv2d(3, 64, kernel_size=(11, 11), stride=(4, 4), padding=(2, 2))\n",
       "    (1): ReLU(inplace=True)\n",
       "    (2): MaxPool2d(kernel_size=3, stride=2, padding=0, dilation=1, ceil_mode=False)\n",
       "    (3): Conv2d(64, 192, kernel_size=(5, 5), stride=(1, 1), padding=(2, 2))\n",
       "    (4): ReLU(inplace=True)\n",
       "    (5): MaxPool2d(kernel_size=3, stride=2, padding=0, dilation=1, ceil_mode=False)\n",
       "    (6): Conv2d(192, 384, kernel_size=(3, 3), stride=(1, 1), padding=(1, 1))\n",
       "    (7): ReLU(inplace=True)\n",
       "    (8): Conv2d(384, 256, kernel_size=(3, 3), stride=(1, 1), padding=(1, 1))\n",
       "    (9): ReLU(inplace=True)\n",
       "    (10): Conv2d(256, 256, kernel_size=(3, 3), stride=(1, 1), padding=(1, 1))\n",
       "    (11): ReLU(inplace=True)\n",
       "    (12): MaxPool2d(kernel_size=3, stride=2, padding=0, dilation=1, ceil_mode=False)\n",
       "  )\n",
       "  (avgpool): AdaptiveAvgPool2d(output_size=(6, 6))\n",
       "  (classifier): Sequential(\n",
       "    (0): Dropout(p=0.5, inplace=False)\n",
       "    (1): Linear(in_features=9216, out_features=4096, bias=True)\n",
       "    (2): ReLU(inplace=True)\n",
       "    (3): Dropout(p=0.5, inplace=False)\n",
       "    (4): Linear(in_features=4096, out_features=4096, bias=True)\n",
       "    (5): ReLU(inplace=True)\n",
       "    (6): Linear(in_features=4096, out_features=1000, bias=True)\n",
       "  )\n",
       ")"
      ]
     },
     "execution_count": 85,
     "metadata": {},
     "output_type": "execute_result"
    }
   ],
   "source": [
    "model"
   ]
  },
  {
   "cell_type": "code",
   "execution_count": 83,
   "metadata": {
    "execution": {
     "iopub.execute_input": "2020-08-23T13:58:53.463653Z",
     "iopub.status.busy": "2020-08-23T13:58:53.463381Z",
     "iopub.status.idle": "2020-08-23T13:58:53.478361Z",
     "shell.execute_reply": "2020-08-23T13:58:53.477752Z",
     "shell.execute_reply.started": "2020-08-23T13:58:53.463626Z"
    }
   },
   "outputs": [
    {
     "name": "stdout",
     "output_type": "stream",
     "text": [
      "----------------------------------------------------------------\n",
      "        Layer (type)               Output Shape         Param #\n",
      "================================================================\n",
      "            Conv2d-1           [-1, 64, 55, 55]          23,296\n",
      "              ReLU-2           [-1, 64, 55, 55]               0\n",
      "         MaxPool2d-3           [-1, 64, 27, 27]               0\n",
      "            Conv2d-4          [-1, 192, 27, 27]         307,392\n",
      "              ReLU-5          [-1, 192, 27, 27]               0\n",
      "         MaxPool2d-6          [-1, 192, 13, 13]               0\n",
      "            Conv2d-7          [-1, 384, 13, 13]         663,936\n",
      "              ReLU-8          [-1, 384, 13, 13]               0\n",
      "            Conv2d-9          [-1, 256, 13, 13]         884,992\n",
      "             ReLU-10          [-1, 256, 13, 13]               0\n",
      "           Conv2d-11          [-1, 256, 13, 13]         590,080\n",
      "             ReLU-12          [-1, 256, 13, 13]               0\n",
      "        MaxPool2d-13            [-1, 256, 6, 6]               0\n",
      "AdaptiveAvgPool2d-14            [-1, 256, 6, 6]               0\n",
      "          Dropout-15                 [-1, 9216]               0\n",
      "           Linear-16                 [-1, 4096]      37,752,832\n",
      "             ReLU-17                 [-1, 4096]               0\n",
      "          Dropout-18                 [-1, 4096]               0\n",
      "           Linear-19                 [-1, 4096]      16,781,312\n",
      "             ReLU-20                 [-1, 4096]               0\n",
      "           Linear-21                 [-1, 1000]       4,097,000\n",
      "================================================================\n",
      "Total params: 61,100,840\n",
      "Trainable params: 61,100,840\n",
      "Non-trainable params: 0\n",
      "----------------------------------------------------------------\n",
      "Input size (MB): 0.57\n",
      "Forward/backward pass size (MB): 8.38\n",
      "Params size (MB): 233.08\n",
      "Estimated Total Size (MB): 242.03\n",
      "----------------------------------------------------------------\n"
     ]
    }
   ],
   "source": [
    "summary(model, (3, 224, 224))"
   ]
  },
  {
   "cell_type": "code",
   "execution_count": 84,
   "metadata": {
    "execution": {
     "iopub.execute_input": "2020-08-23T13:59:20.755843Z",
     "iopub.status.busy": "2020-08-23T13:59:20.755595Z",
     "iopub.status.idle": "2020-08-23T13:59:20.769329Z",
     "shell.execute_reply": "2020-08-23T13:59:20.768669Z",
     "shell.execute_reply.started": "2020-08-23T13:59:20.755816Z"
    }
   },
   "outputs": [
    {
     "name": "stdout",
     "output_type": "stream",
     "text": [
      "Module         | Self CPU total | CPU total | CUDA total | Occurrences\n",
      "---------------|----------------|-----------|------------|------------\n",
      "AlexNet        |                |           |            |            \n",
      "├── features   |                |           |            |            \n",
      "│├── 0         |      236.892us | 878.269us |  902.720us |           1\n",
      "│├── 1         |       36.998us |  36.998us |   37.920us |           1\n",
      "│├── 2         |       52.498us |  93.996us |   93.248us |           1\n",
      "│├── 3         |      113.596us | 404.885us |  912.320us |           1\n",
      "│├── 4         |       25.799us |  25.799us |   26.624us |           1\n",
      "│├── 5         |       38.398us |  68.696us |   68.576us |           1\n",
      "│├── 6         |      126.795us | 454.784us |  612.320us |           1\n",
      "│├── 7         |       23.899us |  23.899us |   24.608us |           1\n",
      "│├── 8         |      120.195us | 437.683us |  782.400us |           1\n",
      "│├── 9         |       25.199us |  25.199us |   25.600us |           1\n",
      "│├── 10        |      107.096us | 385.784us |  602.144us |           1\n",
      "│├── 11        |       24.799us |  24.799us |   25.632us |           1\n",
      "│└── 12        |       38.098us |  68.697us |   68.640us |           1\n",
      "├── avgpool    |       36.899us |  64.798us |   66.528us |           1\n",
      "└── classifier |                |           |            |            \n",
      " ├── 0         |       46.598us |  83.797us |   84.000us |           1\n",
      " ├── 1         |      108.796us | 108.796us |  377.856us |           1\n",
      " ├── 2         |       23.899us |  23.899us |   24.576us |           1\n",
      " ├── 3         |       36.699us |  65.198us |   64.512us |           1\n",
      " ├── 4         |       67.097us |  67.097us |  183.296us |           1\n",
      " ├── 5         |       23.399us |  23.399us |   24.608us |           1\n",
      " └── 6         |       69.698us |  69.698us |  111.680us |           1\n",
      "\n"
     ]
    }
   ],
   "source": [
    "x = torch.rand([1, 3, 224, 224]).cuda()\n",
    "\n",
    "with torchprof.Profile(model, use_cuda=True) as prof:\n",
    "    model(x)\n",
    "\n",
    "print(prof.display(show_events=False))"
   ]
  },
  {
   "cell_type": "code",
   "execution_count": 86,
   "metadata": {
    "execution": {
     "iopub.execute_input": "2020-08-23T14:58:22.685662Z",
     "iopub.status.busy": "2020-08-23T14:58:22.685417Z",
     "iopub.status.idle": "2020-08-23T14:58:22.692918Z",
     "shell.execute_reply": "2020-08-23T14:58:22.692331Z",
     "shell.execute_reply.started": "2020-08-23T14:58:22.685634Z"
    }
   },
   "outputs": [],
   "source": [
    "import torch.nn as nn\n"
   ]
  },
  {
   "cell_type": "code",
   "execution_count": 88,
   "metadata": {
    "execution": {
     "iopub.execute_input": "2020-08-23T14:59:36.574737Z",
     "iopub.status.busy": "2020-08-23T14:59:36.574499Z",
     "iopub.status.idle": "2020-08-23T14:59:36.579374Z",
     "shell.execute_reply": "2020-08-23T14:59:36.578827Z",
     "shell.execute_reply.started": "2020-08-23T14:59:36.574711Z"
    }
   },
   "outputs": [
    {
     "data": {
      "text/plain": [
       "\u001b[0;31mInit signature:\u001b[0m \u001b[0mnn\u001b[0m\u001b[0;34m.\u001b[0m\u001b[0mLinear\u001b[0m\u001b[0;34m(\u001b[0m\u001b[0min_features\u001b[0m\u001b[0;34m,\u001b[0m \u001b[0mout_features\u001b[0m\u001b[0;34m,\u001b[0m \u001b[0mbias\u001b[0m\u001b[0;34m=\u001b[0m\u001b[0;32mTrue\u001b[0m\u001b[0;34m)\u001b[0m\u001b[0;34m\u001b[0m\u001b[0;34m\u001b[0m\u001b[0m\n",
       "\u001b[0;31mDocstring:\u001b[0m     \n",
       "Applies a linear transformation to the incoming data: :math:`y = xA^T + b`\n",
       "\n",
       "Args:\n",
       "    in_features: size of each input sample\n",
       "    out_features: size of each output sample\n",
       "    bias: If set to ``False``, the layer will not learn an additive bias.\n",
       "        Default: ``True``\n",
       "\n",
       "Shape:\n",
       "    - Input: :math:`(N, *, H_{in})` where :math:`*` means any number of\n",
       "      additional dimensions and :math:`H_{in} = \\text{in\\_features}`\n",
       "    - Output: :math:`(N, *, H_{out})` where all but the last dimension\n",
       "      are the same shape as the input and :math:`H_{out} = \\text{out\\_features}`.\n",
       "\n",
       "Attributes:\n",
       "    weight: the learnable weights of the module of shape\n",
       "        :math:`(\\text{out\\_features}, \\text{in\\_features})`. The values are\n",
       "        initialized from :math:`\\mathcal{U}(-\\sqrt{k}, \\sqrt{k})`, where\n",
       "        :math:`k = \\frac{1}{\\text{in\\_features}}`\n",
       "    bias:   the learnable bias of the module of shape :math:`(\\text{out\\_features})`.\n",
       "            If :attr:`bias` is ``True``, the values are initialized from\n",
       "            :math:`\\mathcal{U}(-\\sqrt{k}, \\sqrt{k})` where\n",
       "            :math:`k = \\frac{1}{\\text{in\\_features}}`\n",
       "\n",
       "Examples::\n",
       "\n",
       "    >>> m = nn.Linear(20, 30)\n",
       "    >>> input = torch.randn(128, 20)\n",
       "    >>> output = m(input)\n",
       "    >>> print(output.size())\n",
       "    torch.Size([128, 30])\n",
       "\u001b[0;31mInit docstring:\u001b[0m Initializes internal Module state, shared by both nn.Module and ScriptModule.\n",
       "\u001b[0;31mFile:\u001b[0m           /opt/conda/lib/python3.7/site-packages/torch/nn/modules/linear.py\n",
       "\u001b[0;31mType:\u001b[0m           type\n",
       "\u001b[0;31mSubclasses:\u001b[0m     Linear\n"
      ]
     },
     "metadata": {},
     "output_type": "display_data"
    }
   ],
   "source": [
    "nn.Linear?"
   ]
  },
  {
   "cell_type": "code",
   "execution_count": null,
   "metadata": {},
   "outputs": [],
   "source": []
  }
 ],
 "metadata": {
  "kernelspec": {
   "display_name": "Python 3",
   "language": "python",
   "name": "python3"
  },
  "language_info": {
   "codemirror_mode": {
    "name": "ipython",
    "version": 3
   },
   "file_extension": ".py",
   "mimetype": "text/x-python",
   "name": "python",
   "nbconvert_exporter": "python",
   "pygments_lexer": "ipython3",
   "version": "3.7.8"
  }
 },
 "nbformat": 4,
 "nbformat_minor": 4
}
