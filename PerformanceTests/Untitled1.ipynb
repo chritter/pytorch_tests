{
 "cells": [
  {
   "cell_type": "code",
   "execution_count": 1,
   "metadata": {
    "execution": {
     "iopub.execute_input": "2020-08-23T13:26:41.916849Z",
     "iopub.status.busy": "2020-08-23T13:26:41.916599Z",
     "iopub.status.idle": "2020-08-23T13:26:42.117875Z",
     "shell.execute_reply": "2020-08-23T13:26:42.117221Z",
     "shell.execute_reply.started": "2020-08-23T13:26:41.916822Z"
    }
   },
   "outputs": [],
   "source": [
    "import torch"
   ]
  },
  {
   "cell_type": "code",
   "execution_count": 10,
   "metadata": {
    "execution": {
     "iopub.execute_input": "2020-08-23T13:30:44.760886Z",
     "iopub.status.busy": "2020-08-23T13:30:44.760636Z",
     "iopub.status.idle": "2020-08-23T13:30:44.765871Z",
     "shell.execute_reply": "2020-08-23T13:30:44.765285Z",
     "shell.execute_reply.started": "2020-08-23T13:30:44.760858Z"
    }
   },
   "outputs": [
    {
     "name": "stdout",
     "output_type": "stream",
     "text": [
      "tensor([[27., 27.],\n",
      "        [27., 27.]])\n"
     ]
    }
   ],
   "source": [
    "x = torch.ones(2, 2, requires_grad=True)\n",
    "y = x + 2\n",
    "y.backward(27*torch.ones(2, 2), retain_graph=True)\n",
    "# the retain_variables flag will prevent the internal buffers from being freed\n",
    "print(x.grad)"
   ]
  },
  {
   "cell_type": "code",
   "execution_count": null,
   "metadata": {},
   "outputs": [],
   "source": []
  }
 ],
 "metadata": {
  "kernelspec": {
   "display_name": "Python 3",
   "language": "python",
   "name": "python3"
  },
  "language_info": {
   "codemirror_mode": {
    "name": "ipython",
    "version": 3
   },
   "file_extension": ".py",
   "mimetype": "text/x-python",
   "name": "python",
   "nbconvert_exporter": "python",
   "pygments_lexer": "ipython3",
   "version": "3.7.8"
  }
 },
 "nbformat": 4,
 "nbformat_minor": 4
}
