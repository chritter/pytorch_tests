{
 "cells": [
  {
   "cell_type": "code",
   "execution_count": 1,
   "metadata": {
    "execution": {
     "iopub.execute_input": "2020-08-23T22:11:19.624080Z",
     "iopub.status.busy": "2020-08-23T22:11:19.623833Z",
     "iopub.status.idle": "2020-08-23T22:11:19.969680Z",
     "shell.execute_reply": "2020-08-23T22:11:19.969041Z",
     "shell.execute_reply.started": "2020-08-23T22:11:19.624053Z"
    }
   },
   "outputs": [],
   "source": [
    "from __future__ import print_function\n",
    "import argparse\n",
    "import torch\n",
    "import torch.nn as nn\n",
    "import torch.nn.functional as F\n",
    "import torch.optim as optim\n",
    "from torchvision import datasets, transforms\n",
    "from torch.optim.lr_scheduler import StepLR"
   ]
  },
  {
   "cell_type": "code",
   "execution_count": 6,
   "metadata": {
    "execution": {
     "iopub.execute_input": "2020-08-23T22:11:52.212888Z",
     "iopub.status.busy": "2020-08-23T22:11:52.212639Z",
     "iopub.status.idle": "2020-08-23T22:11:52.215525Z",
     "shell.execute_reply": "2020-08-23T22:11:52.214906Z",
     "shell.execute_reply.started": "2020-08-23T22:11:52.212862Z"
    }
   },
   "outputs": [],
   "source": [
    "# would allow model to be initialized fully on GPU\n",
    "#torch.set_default_tensor_type('torch.cuda.FloatTensor')"
   ]
  },
  {
   "cell_type": "code",
   "execution_count": 3,
   "metadata": {
    "execution": {
     "iopub.execute_input": "2020-08-23T22:11:22.084835Z",
     "iopub.status.busy": "2020-08-23T22:11:22.084656Z",
     "iopub.status.idle": "2020-08-23T22:11:22.103111Z",
     "shell.execute_reply": "2020-08-23T22:11:22.102575Z",
     "shell.execute_reply.started": "2020-08-23T22:11:22.084812Z"
    }
   },
   "outputs": [],
   "source": [
    "\n",
    "\n",
    "\n",
    "class Net(nn.Module):\n",
    "    def __init__(self):\n",
    "        super(Net, self).__init__()\n",
    "        self.conv1 = nn.Conv2d(1, 32, 3, 1)\n",
    "        self.conv2 = nn.Conv2d(32, 64, 3, 1)\n",
    "        self.dropout1 = nn.Dropout2d(0.25)\n",
    "        self.dropout2 = nn.Dropout2d(0.5)\n",
    "        self.fc1 = nn.Linear(9216, 128)\n",
    "        self.fc2 = nn.Linear(128, 10)\n",
    "\n",
    "    def forward(self, x):\n",
    "        x = self.conv1(x)\n",
    "        x = F.relu(x)\n",
    "        x = self.conv2(x)\n",
    "        x = F.relu(x)\n",
    "        #print(x.shape)\n",
    "        x = F.max_pool2d(x, 2)\n",
    "        x = self.dropout1(x)\n",
    "        print(x.shape)\n",
    "        x = torch.flatten(x, 1)\n",
    "        x = self.fc1(x)\n",
    "        x = F.relu(x)\n",
    "        x = self.dropout2(x)\n",
    "        x = self.fc2(x)\n",
    "        output = F.log_softmax(x, dim=1)\n",
    "        return output\n",
    "\n",
    "\n",
    "def train(args, model, device, train_loader, optimizer, epoch):\n",
    "    model.train()\n",
    "    for batch_idx, (data, target) in enumerate(train_loader):\n",
    "        data, target = data.to(device), target.to(device)\n",
    "        optimizer.zero_grad()\n",
    "        output = model(data)\n",
    "        loss = F.nll_loss(output, target)\n",
    "        loss.backward()\n",
    "        optimizer.step()\n",
    "        if batch_idx % args.log_interval == 0:\n",
    "            print('Train Epoch: {} [{}/{} ({:.0f}%)]\\tLoss: {:.6f}'.format(\n",
    "                epoch, batch_idx * len(data), len(train_loader.dataset),\n",
    "                100. * batch_idx / len(train_loader), loss.item()))\n",
    "            if args.dry_run:\n",
    "                break\n",
    "\n",
    "\n",
    "def test(model, device, test_loader):\n",
    "    model.eval()\n",
    "    test_loss = 0\n",
    "    correct = 0\n",
    "    with torch.no_grad():\n",
    "        for data, target in test_loader:\n",
    "            data, target = data.to(device), target.to(device)\n",
    "            output = model(data)\n",
    "            test_loss += F.nll_loss(output, target, reduction='sum').item()  # sum up batch loss\n",
    "            pred = output.argmax(dim=1, keepdim=True)  # get the index of the max log-probability\n",
    "            correct += pred.eq(target.view_as(pred)).sum().item()\n",
    "\n",
    "    test_loss /= len(test_loader.dataset)\n",
    "\n",
    "    print('\\nTest set: Average loss: {:.4f}, Accuracy: {}/{} ({:.0f}%)\\n'.format(\n",
    "        test_loss, correct, len(test_loader.dataset),\n",
    "        100. * correct / len(test_loader.dataset)))\n"
   ]
  },
  {
   "cell_type": "code",
   "execution_count": 4,
   "metadata": {
    "execution": {
     "iopub.execute_input": "2020-08-23T22:11:22.556024Z",
     "iopub.status.busy": "2020-08-23T22:11:22.555825Z",
     "iopub.status.idle": "2020-08-23T22:11:22.573982Z",
     "shell.execute_reply": "2020-08-23T22:11:22.573411Z",
     "shell.execute_reply.started": "2020-08-23T22:11:22.555998Z"
    }
   },
   "outputs": [
    {
     "data": {
      "text/plain": [
       "Net(\n",
       "  (conv1): Conv2d(1, 32, kernel_size=(3, 3), stride=(1, 1))\n",
       "  (conv2): Conv2d(32, 64, kernel_size=(3, 3), stride=(1, 1))\n",
       "  (dropout1): Dropout2d(p=0.25, inplace=False)\n",
       "  (dropout2): Dropout2d(p=0.5, inplace=False)\n",
       "  (fc1): Linear(in_features=9216, out_features=128, bias=True)\n",
       "  (fc2): Linear(in_features=128, out_features=10, bias=True)\n",
       ")"
      ]
     },
     "execution_count": 4,
     "metadata": {},
     "output_type": "execute_result"
    }
   ],
   "source": [
    "from torchsummary import summary\n",
    "model = Net()\n",
    "model"
   ]
  },
  {
   "cell_type": "markdown",
   "metadata": {},
   "source": [
    "### check if model is on CPU"
   ]
  },
  {
   "cell_type": "code",
   "execution_count": 5,
   "metadata": {
    "execution": {
     "iopub.execute_input": "2020-08-23T22:11:24.756199Z",
     "iopub.status.busy": "2020-08-23T22:11:24.755952Z",
     "iopub.status.idle": "2020-08-23T22:11:24.760408Z",
     "shell.execute_reply": "2020-08-23T22:11:24.759782Z",
     "shell.execute_reply.started": "2020-08-23T22:11:24.756173Z"
    }
   },
   "outputs": [
    {
     "data": {
      "text/plain": [
       "device(type='cpu')"
      ]
     },
     "execution_count": 5,
     "metadata": {},
     "output_type": "execute_result"
    }
   ],
   "source": [
    "next(model.parameters()).device"
   ]
  },
  {
   "cell_type": "code",
   "execution_count": 83,
   "metadata": {
    "execution": {
     "iopub.execute_input": "2020-08-23T15:31:15.678610Z",
     "iopub.status.busy": "2020-08-23T15:31:15.678373Z",
     "iopub.status.idle": "2020-08-23T15:31:15.683152Z",
     "shell.execute_reply": "2020-08-23T15:31:15.682519Z",
     "shell.execute_reply.started": "2020-08-23T15:31:15.678584Z"
    }
   },
   "outputs": [
    {
     "data": {
      "text/plain": [
       "torch.Size([10, 1, 28, 28])"
      ]
     },
     "execution_count": 83,
     "metadata": {},
     "output_type": "execute_result"
    }
   ],
   "source": [
    "x = torch.ones((10, 1, 28, 28))\n",
    "x.shape"
   ]
  },
  {
   "cell_type": "code",
   "execution_count": 84,
   "metadata": {
    "execution": {
     "iopub.execute_input": "2020-08-23T15:31:16.320934Z",
     "iopub.status.busy": "2020-08-23T15:31:16.320697Z",
     "iopub.status.idle": "2020-08-23T15:31:16.344467Z",
     "shell.execute_reply": "2020-08-23T15:31:16.343892Z",
     "shell.execute_reply.started": "2020-08-23T15:31:16.320908Z"
    }
   },
   "outputs": [
    {
     "data": {
      "text/plain": [
       "torch.Size([10, 10])"
      ]
     },
     "execution_count": 84,
     "metadata": {},
     "output_type": "execute_result"
    }
   ],
   "source": [
    "model(x).shape"
   ]
  },
  {
   "cell_type": "code",
   "execution_count": 85,
   "metadata": {
    "execution": {
     "iopub.execute_input": "2020-08-23T15:31:19.791036Z",
     "iopub.status.busy": "2020-08-23T15:31:19.790799Z",
     "iopub.status.idle": "2020-08-23T15:31:19.797252Z",
     "shell.execute_reply": "2020-08-23T15:31:19.796689Z",
     "shell.execute_reply.started": "2020-08-23T15:31:19.791010Z"
    }
   },
   "outputs": [],
   "source": [
    "def get_args():\n",
    "    # Training settings\n",
    "    parser = argparse.ArgumentParser(description='PyTorch MNIST Example')\n",
    "    parser.add_argument('--batch-size', type=int, default=64, metavar='N',\n",
    "                        help='input batch size for training (default: 64)')\n",
    "    parser.add_argument('--test-batch-size', type=int, default=1000, metavar='N',\n",
    "                        help='input batch size for testing (default: 1000)')\n",
    "    parser.add_argument('--epochs', type=int, default=14, metavar='N',\n",
    "                        help='number of epochs to train (default: 14)')\n",
    "    parser.add_argument('--lr', type=float, default=1.0, metavar='LR',\n",
    "                        help='learning rate (default: 1.0)')\n",
    "    parser.add_argument('--gamma', type=float, default=0.7, metavar='M',\n",
    "                        help='Learning rate step gamma (default: 0.7)')\n",
    "    parser.add_argument('--no-cuda', action='store_true', default=False,\n",
    "                        help='disables CUDA training')\n",
    "    parser.add_argument('--dry-run', action='store_true', default=False,\n",
    "                        help='quickly check a single pass')\n",
    "    parser.add_argument('--seed', type=int, default=1, metavar='S',\n",
    "                        help='random seed (default: 1)')\n",
    "    parser.add_argument('--log-interval', type=int, default=10, metavar='N',\n",
    "                        help='how many batches to wait before logging training status')\n",
    "    parser.add_argument('--save-model', action='store_true', default=False,\n",
    "                        help='For Saving the current Model')\n",
    "    args, unknown = parser.parse_known_args()\n",
    "    return args "
   ]
  },
  {
   "cell_type": "code",
   "execution_count": 86,
   "metadata": {
    "execution": {
     "iopub.execute_input": "2020-08-23T15:31:20.945961Z",
     "iopub.status.busy": "2020-08-23T15:31:20.945727Z",
     "iopub.status.idle": "2020-08-23T15:31:20.950513Z",
     "shell.execute_reply": "2020-08-23T15:31:20.949933Z",
     "shell.execute_reply.started": "2020-08-23T15:31:20.945934Z"
    }
   },
   "outputs": [],
   "source": [
    "args = get_args()"
   ]
  },
  {
   "cell_type": "code",
   "execution_count": 106,
   "metadata": {
    "execution": {
     "iopub.execute_input": "2020-08-23T16:31:10.585870Z",
     "iopub.status.busy": "2020-08-23T16:31:10.585635Z",
     "iopub.status.idle": "2020-08-23T16:31:10.588883Z",
     "shell.execute_reply": "2020-08-23T16:31:10.588326Z",
     "shell.execute_reply.started": "2020-08-23T16:31:10.585844Z"
    }
   },
   "outputs": [],
   "source": [
    "args.epochs = 5"
   ]
  },
  {
   "cell_type": "code",
   "execution_count": 107,
   "metadata": {
    "execution": {
     "iopub.execute_input": "2020-08-23T16:31:11.023699Z",
     "iopub.status.busy": "2020-08-23T16:31:11.023445Z",
     "iopub.status.idle": "2020-08-23T16:31:11.027983Z",
     "shell.execute_reply": "2020-08-23T16:31:11.027153Z",
     "shell.execute_reply.started": "2020-08-23T16:31:11.023673Z"
    }
   },
   "outputs": [
    {
     "data": {
      "text/plain": [
       "Namespace(batch_size=64, dry_run=False, epochs=5, gamma=0.7, log_interval=10, lr=1.0, no_cuda=False, save_model=False, seed=1, test_batch_size=1000)"
      ]
     },
     "execution_count": 107,
     "metadata": {},
     "output_type": "execute_result"
    }
   ],
   "source": [
    "args"
   ]
  },
  {
   "cell_type": "code",
   "execution_count": 108,
   "metadata": {
    "execution": {
     "iopub.execute_input": "2020-08-23T16:31:11.290617Z",
     "iopub.status.busy": "2020-08-23T16:31:11.290441Z",
     "iopub.status.idle": "2020-08-23T16:31:11.295590Z",
     "shell.execute_reply": "2020-08-23T16:31:11.294910Z",
     "shell.execute_reply.started": "2020-08-23T16:31:11.290594Z"
    }
   },
   "outputs": [
    {
     "name": "stdout",
     "output_type": "stream",
     "text": [
      "True\n"
     ]
    }
   ],
   "source": [
    "\n",
    "use_cuda = not args.no_cuda and torch.cuda.is_available()\n",
    "print(use_cuda)\n",
    "torch.manual_seed(args.seed)\n",
    "\n",
    "device = torch.device(\"cuda\" if use_cuda else \"cpu\")\n",
    "\n",
    "kwargs = {'batch_size': args.batch_size}\n",
    "if use_cuda:\n",
    "    kwargs.update({'num_workers': 4,\n",
    "                   'pin_memory': True,\n",
    "                   'shuffle': True},\n",
    "                 )\n",
    "\n",
    "transform=transforms.Compose([\n",
    "    transforms.ToTensor(),\n",
    "    transforms.Normalize((0.1307,), (0.3081,))\n",
    "    ])\n",
    "\n",
    "\n"
   ]
  },
  {
   "cell_type": "code",
   "execution_count": 109,
   "metadata": {
    "execution": {
     "iopub.execute_input": "2020-08-23T16:31:11.591656Z",
     "iopub.status.busy": "2020-08-23T16:31:11.591423Z",
     "iopub.status.idle": "2020-08-23T16:31:11.620144Z",
     "shell.execute_reply": "2020-08-23T16:31:11.619436Z",
     "shell.execute_reply.started": "2020-08-23T16:31:11.591631Z"
    }
   },
   "outputs": [],
   "source": [
    "\n",
    "dataset1 = datasets.MNIST('../data', train=True, download=True,\n",
    "                   transform=transform)\n",
    "dataset2 = datasets.MNIST('../data', train=False,\n",
    "                   transform=transform)"
   ]
  },
  {
   "cell_type": "code",
   "execution_count": 8,
   "metadata": {
    "execution": {
     "iopub.execute_input": "2020-08-23T22:12:18.047845Z",
     "iopub.status.busy": "2020-08-23T22:12:18.047275Z",
     "iopub.status.idle": "2020-08-23T22:12:18.688310Z",
     "shell.execute_reply": "2020-08-23T22:12:18.687599Z",
     "shell.execute_reply.started": "2020-08-23T22:12:18.047815Z"
    }
   },
   "outputs": [
    {
     "name": "stdout",
     "output_type": "stream",
     "text": [
      "processed  raw\n"
     ]
    }
   ],
   "source": [
    "! ls ../data/MNIST"
   ]
  },
  {
   "cell_type": "code",
   "execution_count": 110,
   "metadata": {
    "execution": {
     "iopub.execute_input": "2020-08-23T16:31:12.124449Z",
     "iopub.status.busy": "2020-08-23T16:31:12.124222Z",
     "iopub.status.idle": "2020-08-23T16:31:12.128547Z",
     "shell.execute_reply": "2020-08-23T16:31:12.127939Z",
     "shell.execute_reply.started": "2020-08-23T16:31:12.124423Z"
    }
   },
   "outputs": [
    {
     "data": {
      "text/plain": [
       "Dataset MNIST\n",
       "    Number of datapoints: 60000\n",
       "    Root location: ../data\n",
       "    Split: Train\n",
       "    StandardTransform\n",
       "Transform: Compose(\n",
       "               ToTensor()\n",
       "               Normalize(mean=(0.1307,), std=(0.3081,))\n",
       "           )"
      ]
     },
     "execution_count": 110,
     "metadata": {},
     "output_type": "execute_result"
    }
   ],
   "source": [
    "dataset1"
   ]
  },
  {
   "cell_type": "code",
   "execution_count": 111,
   "metadata": {
    "execution": {
     "iopub.execute_input": "2020-08-23T16:31:12.552662Z",
     "iopub.status.busy": "2020-08-23T16:31:12.552426Z",
     "iopub.status.idle": "2020-08-23T16:31:12.556695Z",
     "shell.execute_reply": "2020-08-23T16:31:12.556094Z",
     "shell.execute_reply.started": "2020-08-23T16:31:12.552636Z"
    }
   },
   "outputs": [
    {
     "data": {
      "text/plain": [
       "torch.Size([60000, 28, 28])"
      ]
     },
     "execution_count": 111,
     "metadata": {},
     "output_type": "execute_result"
    }
   ],
   "source": [
    "dataset1.train_data.shape"
   ]
  },
  {
   "cell_type": "code",
   "execution_count": 112,
   "metadata": {
    "execution": {
     "iopub.execute_input": "2020-08-23T16:31:13.197902Z",
     "iopub.status.busy": "2020-08-23T16:31:13.197669Z",
     "iopub.status.idle": "2020-08-23T16:31:13.201882Z",
     "shell.execute_reply": "2020-08-23T16:31:13.201270Z",
     "shell.execute_reply.started": "2020-08-23T16:31:13.197876Z"
    }
   },
   "outputs": [
    {
     "data": {
      "text/plain": [
       "torch.Size([60000])"
      ]
     },
     "execution_count": 112,
     "metadata": {},
     "output_type": "execute_result"
    }
   ],
   "source": [
    "dataset1.train_labels.shape"
   ]
  },
  {
   "cell_type": "code",
   "execution_count": 113,
   "metadata": {
    "execution": {
     "iopub.execute_input": "2020-08-23T16:31:14.184253Z",
     "iopub.status.busy": "2020-08-23T16:31:14.184006Z",
     "iopub.status.idle": "2020-08-23T16:31:14.197466Z",
     "shell.execute_reply": "2020-08-23T16:31:14.196781Z",
     "shell.execute_reply.started": "2020-08-23T16:31:14.184227Z"
    }
   },
   "outputs": [],
   "source": [
    "train_loader = torch.utils.data.DataLoader(dataset1,**kwargs)\n",
    "test_loader = torch.utils.data.DataLoader(dataset2, **kwargs)\n",
    "\n",
    "model = Net().to(device)\n",
    "optimizer = optim.Adadelta(model.parameters(), lr=args.lr)"
   ]
  },
  {
   "cell_type": "code",
   "execution_count": 114,
   "metadata": {
    "execution": {
     "iopub.execute_input": "2020-08-23T16:31:14.463189Z",
     "iopub.status.busy": "2020-08-23T16:31:14.463005Z",
     "iopub.status.idle": "2020-08-23T16:31:39.645545Z",
     "shell.execute_reply": "2020-08-23T16:31:39.644714Z",
     "shell.execute_reply.started": "2020-08-23T16:31:14.463165Z"
    }
   },
   "outputs": [
    {
     "name": "stdout",
     "output_type": "stream",
     "text": [
      "Train Epoch: 1 [0/60000 (0%)]\tLoss: 2.333410\n",
      "Train Epoch: 1 [640/60000 (1%)]\tLoss: 1.268087\n",
      "Train Epoch: 1 [1280/60000 (2%)]\tLoss: 0.830989\n",
      "Train Epoch: 1 [1920/60000 (3%)]\tLoss: 0.589039\n",
      "Train Epoch: 1 [2560/60000 (4%)]\tLoss: 0.344484\n",
      "Train Epoch: 1 [3200/60000 (5%)]\tLoss: 0.397352\n",
      "Train Epoch: 1 [3840/60000 (6%)]\tLoss: 0.288596\n",
      "Train Epoch: 1 [4480/60000 (7%)]\tLoss: 0.225120\n",
      "Train Epoch: 1 [5120/60000 (9%)]\tLoss: 0.436710\n",
      "Train Epoch: 1 [5760/60000 (10%)]\tLoss: 0.254011\n",
      "Train Epoch: 1 [6400/60000 (11%)]\tLoss: 0.339330\n",
      "Train Epoch: 1 [7040/60000 (12%)]\tLoss: 0.296382\n",
      "Train Epoch: 1 [7680/60000 (13%)]\tLoss: 0.322481\n",
      "Train Epoch: 1 [8320/60000 (14%)]\tLoss: 0.294876\n",
      "Train Epoch: 1 [8960/60000 (15%)]\tLoss: 0.331292\n",
      "Train Epoch: 1 [9600/60000 (16%)]\tLoss: 0.083060\n",
      "Train Epoch: 1 [10240/60000 (17%)]\tLoss: 0.103803\n",
      "Train Epoch: 1 [10880/60000 (18%)]\tLoss: 0.198952\n",
      "Train Epoch: 1 [11520/60000 (19%)]\tLoss: 0.246619\n",
      "Train Epoch: 1 [12160/60000 (20%)]\tLoss: 0.100736\n",
      "Train Epoch: 1 [12800/60000 (21%)]\tLoss: 0.262996\n",
      "Train Epoch: 1 [13440/60000 (22%)]\tLoss: 0.102324\n",
      "Train Epoch: 1 [14080/60000 (23%)]\tLoss: 0.188799\n",
      "Train Epoch: 1 [14720/60000 (25%)]\tLoss: 0.070321\n",
      "Train Epoch: 1 [15360/60000 (26%)]\tLoss: 0.115587\n",
      "Train Epoch: 1 [16000/60000 (27%)]\tLoss: 0.107980\n",
      "Train Epoch: 1 [16640/60000 (28%)]\tLoss: 0.141485\n",
      "Train Epoch: 1 [17280/60000 (29%)]\tLoss: 0.154189\n",
      "Train Epoch: 1 [17920/60000 (30%)]\tLoss: 0.132597\n",
      "Train Epoch: 1 [18560/60000 (31%)]\tLoss: 0.101209\n",
      "Train Epoch: 1 [19200/60000 (32%)]\tLoss: 0.231765\n",
      "Train Epoch: 1 [19840/60000 (33%)]\tLoss: 0.261712\n",
      "Train Epoch: 1 [20480/60000 (34%)]\tLoss: 0.153624\n",
      "Train Epoch: 1 [21120/60000 (35%)]\tLoss: 0.257281\n",
      "Train Epoch: 1 [21760/60000 (36%)]\tLoss: 0.255725\n",
      "Train Epoch: 1 [22400/60000 (37%)]\tLoss: 0.050359\n",
      "Train Epoch: 1 [23040/60000 (38%)]\tLoss: 0.075627\n",
      "Train Epoch: 1 [23680/60000 (39%)]\tLoss: 0.141443\n",
      "Train Epoch: 1 [24320/60000 (41%)]\tLoss: 0.276337\n",
      "Train Epoch: 1 [24960/60000 (42%)]\tLoss: 0.076249\n",
      "Train Epoch: 1 [25600/60000 (43%)]\tLoss: 0.227118\n",
      "Train Epoch: 1 [26240/60000 (44%)]\tLoss: 0.056525\n",
      "Train Epoch: 1 [26880/60000 (45%)]\tLoss: 0.282099\n",
      "Train Epoch: 1 [27520/60000 (46%)]\tLoss: 0.099493\n",
      "Train Epoch: 1 [28160/60000 (47%)]\tLoss: 0.172483\n",
      "Train Epoch: 1 [28800/60000 (48%)]\tLoss: 0.161293\n",
      "Train Epoch: 1 [29440/60000 (49%)]\tLoss: 0.107899\n",
      "Train Epoch: 1 [30080/60000 (50%)]\tLoss: 0.087561\n",
      "Train Epoch: 1 [30720/60000 (51%)]\tLoss: 0.213740\n",
      "Train Epoch: 1 [31360/60000 (52%)]\tLoss: 0.012532\n",
      "Train Epoch: 1 [32000/60000 (53%)]\tLoss: 0.162634\n",
      "Train Epoch: 1 [32640/60000 (54%)]\tLoss: 0.050972\n",
      "Train Epoch: 1 [33280/60000 (55%)]\tLoss: 0.098182\n",
      "Train Epoch: 1 [33920/60000 (57%)]\tLoss: 0.135399\n",
      "Train Epoch: 1 [34560/60000 (58%)]\tLoss: 0.121581\n",
      "Train Epoch: 1 [35200/60000 (59%)]\tLoss: 0.076440\n",
      "Train Epoch: 1 [35840/60000 (60%)]\tLoss: 0.084647\n",
      "Train Epoch: 1 [36480/60000 (61%)]\tLoss: 0.065349\n",
      "Train Epoch: 1 [37120/60000 (62%)]\tLoss: 0.308034\n",
      "Train Epoch: 1 [37760/60000 (63%)]\tLoss: 0.024964\n",
      "Train Epoch: 1 [38400/60000 (64%)]\tLoss: 0.106275\n",
      "Train Epoch: 1 [39040/60000 (65%)]\tLoss: 0.144773\n",
      "Train Epoch: 1 [39680/60000 (66%)]\tLoss: 0.169897\n",
      "Train Epoch: 1 [40320/60000 (67%)]\tLoss: 0.127965\n",
      "Train Epoch: 1 [40960/60000 (68%)]\tLoss: 0.115944\n",
      "Train Epoch: 1 [41600/60000 (69%)]\tLoss: 0.211564\n",
      "Train Epoch: 1 [42240/60000 (70%)]\tLoss: 0.208759\n",
      "Train Epoch: 1 [42880/60000 (71%)]\tLoss: 0.087428\n",
      "Train Epoch: 1 [43520/60000 (72%)]\tLoss: 0.157741\n",
      "Train Epoch: 1 [44160/60000 (74%)]\tLoss: 0.085580\n",
      "Train Epoch: 1 [44800/60000 (75%)]\tLoss: 0.019615\n",
      "Train Epoch: 1 [45440/60000 (76%)]\tLoss: 0.127862\n",
      "Train Epoch: 1 [46080/60000 (77%)]\tLoss: 0.097602\n",
      "Train Epoch: 1 [46720/60000 (78%)]\tLoss: 0.086713\n",
      "Train Epoch: 1 [47360/60000 (79%)]\tLoss: 0.027252\n",
      "Train Epoch: 1 [48000/60000 (80%)]\tLoss: 0.058107\n",
      "Train Epoch: 1 [48640/60000 (81%)]\tLoss: 0.065224\n",
      "Train Epoch: 1 [49280/60000 (82%)]\tLoss: 0.023367\n",
      "Train Epoch: 1 [49920/60000 (83%)]\tLoss: 0.174740\n",
      "Train Epoch: 1 [50560/60000 (84%)]\tLoss: 0.085219\n",
      "Train Epoch: 1 [51200/60000 (85%)]\tLoss: 0.128466\n",
      "Train Epoch: 1 [51840/60000 (86%)]\tLoss: 0.078534\n",
      "Train Epoch: 1 [52480/60000 (87%)]\tLoss: 0.053225\n",
      "Train Epoch: 1 [53120/60000 (88%)]\tLoss: 0.163520\n",
      "Train Epoch: 1 [53760/60000 (90%)]\tLoss: 0.198021\n",
      "Train Epoch: 1 [54400/60000 (91%)]\tLoss: 0.046713\n",
      "Train Epoch: 1 [55040/60000 (92%)]\tLoss: 0.191126\n",
      "Train Epoch: 1 [55680/60000 (93%)]\tLoss: 0.087688\n",
      "Train Epoch: 1 [56320/60000 (94%)]\tLoss: 0.024413\n",
      "Train Epoch: 1 [56960/60000 (95%)]\tLoss: 0.075774\n",
      "Train Epoch: 1 [57600/60000 (96%)]\tLoss: 0.071094\n",
      "Train Epoch: 1 [58240/60000 (97%)]\tLoss: 0.047878\n",
      "Train Epoch: 1 [58880/60000 (98%)]\tLoss: 0.041978\n",
      "Train Epoch: 1 [59520/60000 (99%)]\tLoss: 0.107865\n",
      "\n",
      "Test set: Average loss: 0.0593, Accuracy: 9800/10000 (98%)\n",
      "\n",
      "Train Epoch: 2 [0/60000 (0%)]\tLoss: 0.079987\n",
      "Train Epoch: 2 [640/60000 (1%)]\tLoss: 0.076640\n",
      "Train Epoch: 2 [1280/60000 (2%)]\tLoss: 0.071216\n",
      "Train Epoch: 2 [1920/60000 (3%)]\tLoss: 0.044863\n",
      "Train Epoch: 2 [2560/60000 (4%)]\tLoss: 0.010472\n",
      "Train Epoch: 2 [3200/60000 (5%)]\tLoss: 0.063927\n",
      "Train Epoch: 2 [3840/60000 (6%)]\tLoss: 0.046460\n",
      "Train Epoch: 2 [4480/60000 (7%)]\tLoss: 0.010702\n",
      "Train Epoch: 2 [5120/60000 (9%)]\tLoss: 0.036386\n",
      "Train Epoch: 2 [5760/60000 (10%)]\tLoss: 0.023428\n",
      "Train Epoch: 2 [6400/60000 (11%)]\tLoss: 0.058115\n",
      "Train Epoch: 2 [7040/60000 (12%)]\tLoss: 0.076851\n",
      "Train Epoch: 2 [7680/60000 (13%)]\tLoss: 0.044002\n",
      "Train Epoch: 2 [8320/60000 (14%)]\tLoss: 0.011545\n",
      "Train Epoch: 2 [8960/60000 (15%)]\tLoss: 0.146944\n",
      "Train Epoch: 2 [9600/60000 (16%)]\tLoss: 0.257832\n",
      "Train Epoch: 2 [10240/60000 (17%)]\tLoss: 0.074311\n",
      "Train Epoch: 2 [10880/60000 (18%)]\tLoss: 0.048407\n",
      "Train Epoch: 2 [11520/60000 (19%)]\tLoss: 0.187826\n",
      "Train Epoch: 2 [12160/60000 (20%)]\tLoss: 0.039463\n",
      "Train Epoch: 2 [12800/60000 (21%)]\tLoss: 0.025548\n",
      "Train Epoch: 2 [13440/60000 (22%)]\tLoss: 0.103102\n",
      "Train Epoch: 2 [14080/60000 (23%)]\tLoss: 0.072708\n",
      "Train Epoch: 2 [14720/60000 (25%)]\tLoss: 0.036357\n",
      "Train Epoch: 2 [15360/60000 (26%)]\tLoss: 0.093809\n",
      "Train Epoch: 2 [16000/60000 (27%)]\tLoss: 0.174691\n",
      "Train Epoch: 2 [16640/60000 (28%)]\tLoss: 0.014030\n",
      "Train Epoch: 2 [17280/60000 (29%)]\tLoss: 0.021594\n",
      "Train Epoch: 2 [17920/60000 (30%)]\tLoss: 0.039482\n",
      "Train Epoch: 2 [18560/60000 (31%)]\tLoss: 0.172430\n",
      "Train Epoch: 2 [19200/60000 (32%)]\tLoss: 0.049453\n",
      "Train Epoch: 2 [19840/60000 (33%)]\tLoss: 0.117565\n",
      "Train Epoch: 2 [20480/60000 (34%)]\tLoss: 0.170381\n",
      "Train Epoch: 2 [21120/60000 (35%)]\tLoss: 0.055401\n",
      "Train Epoch: 2 [21760/60000 (36%)]\tLoss: 0.031402\n",
      "Train Epoch: 2 [22400/60000 (37%)]\tLoss: 0.025909\n",
      "Train Epoch: 2 [23040/60000 (38%)]\tLoss: 0.067710\n",
      "Train Epoch: 2 [23680/60000 (39%)]\tLoss: 0.069650\n",
      "Train Epoch: 2 [24320/60000 (41%)]\tLoss: 0.009660\n",
      "Train Epoch: 2 [24960/60000 (42%)]\tLoss: 0.042822\n",
      "Train Epoch: 2 [25600/60000 (43%)]\tLoss: 0.026284\n",
      "Train Epoch: 2 [26240/60000 (44%)]\tLoss: 0.178085\n",
      "Train Epoch: 2 [26880/60000 (45%)]\tLoss: 0.187213\n",
      "Train Epoch: 2 [27520/60000 (46%)]\tLoss: 0.075422\n",
      "Train Epoch: 2 [28160/60000 (47%)]\tLoss: 0.084322\n",
      "Train Epoch: 2 [28800/60000 (48%)]\tLoss: 0.045876\n",
      "Train Epoch: 2 [29440/60000 (49%)]\tLoss: 0.109766\n",
      "Train Epoch: 2 [30080/60000 (50%)]\tLoss: 0.151333\n",
      "Train Epoch: 2 [30720/60000 (51%)]\tLoss: 0.088575\n",
      "Train Epoch: 2 [31360/60000 (52%)]\tLoss: 0.020285\n",
      "Train Epoch: 2 [32000/60000 (53%)]\tLoss: 0.120731\n",
      "Train Epoch: 2 [32640/60000 (54%)]\tLoss: 0.160093\n",
      "Train Epoch: 2 [33280/60000 (55%)]\tLoss: 0.093570\n",
      "Train Epoch: 2 [33920/60000 (57%)]\tLoss: 0.048950\n",
      "Train Epoch: 2 [34560/60000 (58%)]\tLoss: 0.061008\n",
      "Train Epoch: 2 [35200/60000 (59%)]\tLoss: 0.157975\n",
      "Train Epoch: 2 [35840/60000 (60%)]\tLoss: 0.091028\n",
      "Train Epoch: 2 [36480/60000 (61%)]\tLoss: 0.104350\n",
      "Train Epoch: 2 [37120/60000 (62%)]\tLoss: 0.031136\n",
      "Train Epoch: 2 [37760/60000 (63%)]\tLoss: 0.338865\n",
      "Train Epoch: 2 [38400/60000 (64%)]\tLoss: 0.056465\n",
      "Train Epoch: 2 [39040/60000 (65%)]\tLoss: 0.120076\n",
      "Train Epoch: 2 [39680/60000 (66%)]\tLoss: 0.064683\n",
      "Train Epoch: 2 [40320/60000 (67%)]\tLoss: 0.148371\n",
      "Train Epoch: 2 [40960/60000 (68%)]\tLoss: 0.094171\n",
      "Train Epoch: 2 [41600/60000 (69%)]\tLoss: 0.215118\n",
      "Train Epoch: 2 [42240/60000 (70%)]\tLoss: 0.049133\n",
      "Train Epoch: 2 [42880/60000 (71%)]\tLoss: 0.220810\n",
      "Train Epoch: 2 [43520/60000 (72%)]\tLoss: 0.004956\n",
      "Train Epoch: 2 [44160/60000 (74%)]\tLoss: 0.054706\n",
      "Train Epoch: 2 [44800/60000 (75%)]\tLoss: 0.109800\n",
      "Train Epoch: 2 [45440/60000 (76%)]\tLoss: 0.021509\n",
      "Train Epoch: 2 [46080/60000 (77%)]\tLoss: 0.153295\n",
      "Train Epoch: 2 [46720/60000 (78%)]\tLoss: 0.023957\n",
      "Train Epoch: 2 [47360/60000 (79%)]\tLoss: 0.078159\n",
      "Train Epoch: 2 [48000/60000 (80%)]\tLoss: 0.030431\n",
      "Train Epoch: 2 [48640/60000 (81%)]\tLoss: 0.034946\n",
      "Train Epoch: 2 [49280/60000 (82%)]\tLoss: 0.034571\n",
      "Train Epoch: 2 [49920/60000 (83%)]\tLoss: 0.027899\n",
      "Train Epoch: 2 [50560/60000 (84%)]\tLoss: 0.008381\n",
      "Train Epoch: 2 [51200/60000 (85%)]\tLoss: 0.153540\n",
      "Train Epoch: 2 [51840/60000 (86%)]\tLoss: 0.089408\n",
      "Train Epoch: 2 [52480/60000 (87%)]\tLoss: 0.036046\n",
      "Train Epoch: 2 [53120/60000 (88%)]\tLoss: 0.032305\n",
      "Train Epoch: 2 [53760/60000 (90%)]\tLoss: 0.005953\n",
      "Train Epoch: 2 [54400/60000 (91%)]\tLoss: 0.003756\n",
      "Train Epoch: 2 [55040/60000 (92%)]\tLoss: 0.017152\n",
      "Train Epoch: 2 [55680/60000 (93%)]\tLoss: 0.040846\n",
      "Train Epoch: 2 [56320/60000 (94%)]\tLoss: 0.010170\n",
      "Train Epoch: 2 [56960/60000 (95%)]\tLoss: 0.080754\n",
      "Train Epoch: 2 [57600/60000 (96%)]\tLoss: 0.219606\n",
      "Train Epoch: 2 [58240/60000 (97%)]\tLoss: 0.122301\n",
      "Train Epoch: 2 [58880/60000 (98%)]\tLoss: 0.064576\n",
      "Train Epoch: 2 [59520/60000 (99%)]\tLoss: 0.054277\n",
      "\n",
      "Test set: Average loss: 0.0358, Accuracy: 9882/10000 (99%)\n",
      "\n",
      "Train Epoch: 3 [0/60000 (0%)]\tLoss: 0.025609\n",
      "Train Epoch: 3 [640/60000 (1%)]\tLoss: 0.077965\n",
      "Train Epoch: 3 [1280/60000 (2%)]\tLoss: 0.044777\n",
      "Train Epoch: 3 [1920/60000 (3%)]\tLoss: 0.144607\n",
      "Train Epoch: 3 [2560/60000 (4%)]\tLoss: 0.010368\n",
      "Train Epoch: 3 [3200/60000 (5%)]\tLoss: 0.017383\n",
      "Train Epoch: 3 [3840/60000 (6%)]\tLoss: 0.109880\n",
      "Train Epoch: 3 [4480/60000 (7%)]\tLoss: 0.030370\n",
      "Train Epoch: 3 [5120/60000 (9%)]\tLoss: 0.030838\n",
      "Train Epoch: 3 [5760/60000 (10%)]\tLoss: 0.064805\n",
      "Train Epoch: 3 [6400/60000 (11%)]\tLoss: 0.013017\n",
      "Train Epoch: 3 [7040/60000 (12%)]\tLoss: 0.082291\n",
      "Train Epoch: 3 [7680/60000 (13%)]\tLoss: 0.046726\n",
      "Train Epoch: 3 [8320/60000 (14%)]\tLoss: 0.026100\n",
      "Train Epoch: 3 [8960/60000 (15%)]\tLoss: 0.064413\n",
      "Train Epoch: 3 [9600/60000 (16%)]\tLoss: 0.027761\n",
      "Train Epoch: 3 [10240/60000 (17%)]\tLoss: 0.108618\n",
      "Train Epoch: 3 [10880/60000 (18%)]\tLoss: 0.103695\n",
      "Train Epoch: 3 [11520/60000 (19%)]\tLoss: 0.021567\n",
      "Train Epoch: 3 [12160/60000 (20%)]\tLoss: 0.007923\n",
      "Train Epoch: 3 [12800/60000 (21%)]\tLoss: 0.073886\n",
      "Train Epoch: 3 [13440/60000 (22%)]\tLoss: 0.055400\n",
      "Train Epoch: 3 [14080/60000 (23%)]\tLoss: 0.080037\n",
      "Train Epoch: 3 [14720/60000 (25%)]\tLoss: 0.026703\n",
      "Train Epoch: 3 [15360/60000 (26%)]\tLoss: 0.056795\n",
      "Train Epoch: 3 [16000/60000 (27%)]\tLoss: 0.076870\n",
      "Train Epoch: 3 [16640/60000 (28%)]\tLoss: 0.138216\n",
      "Train Epoch: 3 [17280/60000 (29%)]\tLoss: 0.034614\n",
      "Train Epoch: 3 [17920/60000 (30%)]\tLoss: 0.122642\n",
      "Train Epoch: 3 [18560/60000 (31%)]\tLoss: 0.098751\n",
      "Train Epoch: 3 [19200/60000 (32%)]\tLoss: 0.044022\n",
      "Train Epoch: 3 [19840/60000 (33%)]\tLoss: 0.026712\n",
      "Train Epoch: 3 [20480/60000 (34%)]\tLoss: 0.068128\n",
      "Train Epoch: 3 [21120/60000 (35%)]\tLoss: 0.037465\n",
      "Train Epoch: 3 [21760/60000 (36%)]\tLoss: 0.003800\n",
      "Train Epoch: 3 [22400/60000 (37%)]\tLoss: 0.068850\n",
      "Train Epoch: 3 [23040/60000 (38%)]\tLoss: 0.010051\n",
      "Train Epoch: 3 [23680/60000 (39%)]\tLoss: 0.018671\n",
      "Train Epoch: 3 [24320/60000 (41%)]\tLoss: 0.056863\n",
      "Train Epoch: 3 [24960/60000 (42%)]\tLoss: 0.069461\n",
      "Train Epoch: 3 [25600/60000 (43%)]\tLoss: 0.037574\n",
      "Train Epoch: 3 [26240/60000 (44%)]\tLoss: 0.008801\n",
      "Train Epoch: 3 [26880/60000 (45%)]\tLoss: 0.142527\n",
      "Train Epoch: 3 [27520/60000 (46%)]\tLoss: 0.028532\n",
      "Train Epoch: 3 [28160/60000 (47%)]\tLoss: 0.044129\n",
      "Train Epoch: 3 [28800/60000 (48%)]\tLoss: 0.106681\n",
      "Train Epoch: 3 [29440/60000 (49%)]\tLoss: 0.124728\n",
      "Train Epoch: 3 [30080/60000 (50%)]\tLoss: 0.042774\n",
      "Train Epoch: 3 [30720/60000 (51%)]\tLoss: 0.032849\n",
      "Train Epoch: 3 [31360/60000 (52%)]\tLoss: 0.024859\n",
      "Train Epoch: 3 [32000/60000 (53%)]\tLoss: 0.061884\n",
      "Train Epoch: 3 [32640/60000 (54%)]\tLoss: 0.042449\n",
      "Train Epoch: 3 [33280/60000 (55%)]\tLoss: 0.010635\n",
      "Train Epoch: 3 [33920/60000 (57%)]\tLoss: 0.160224\n",
      "Train Epoch: 3 [34560/60000 (58%)]\tLoss: 0.004231\n",
      "Train Epoch: 3 [35200/60000 (59%)]\tLoss: 0.011806\n",
      "Train Epoch: 3 [35840/60000 (60%)]\tLoss: 0.004905\n",
      "Train Epoch: 3 [36480/60000 (61%)]\tLoss: 0.013513\n",
      "Train Epoch: 3 [37120/60000 (62%)]\tLoss: 0.008083\n",
      "Train Epoch: 3 [37760/60000 (63%)]\tLoss: 0.006316\n",
      "Train Epoch: 3 [38400/60000 (64%)]\tLoss: 0.008883\n",
      "Train Epoch: 3 [39040/60000 (65%)]\tLoss: 0.004001\n",
      "Train Epoch: 3 [39680/60000 (66%)]\tLoss: 0.017197\n",
      "Train Epoch: 3 [40320/60000 (67%)]\tLoss: 0.006137\n",
      "Train Epoch: 3 [40960/60000 (68%)]\tLoss: 0.064332\n",
      "Train Epoch: 3 [41600/60000 (69%)]\tLoss: 0.034239\n",
      "Train Epoch: 3 [42240/60000 (70%)]\tLoss: 0.014914\n",
      "Train Epoch: 3 [42880/60000 (71%)]\tLoss: 0.040379\n",
      "Train Epoch: 3 [43520/60000 (72%)]\tLoss: 0.002198\n",
      "Train Epoch: 3 [44160/60000 (74%)]\tLoss: 0.091351\n",
      "Train Epoch: 3 [44800/60000 (75%)]\tLoss: 0.094060\n",
      "Train Epoch: 3 [45440/60000 (76%)]\tLoss: 0.023142\n",
      "Train Epoch: 3 [46080/60000 (77%)]\tLoss: 0.124953\n",
      "Train Epoch: 3 [46720/60000 (78%)]\tLoss: 0.034684\n",
      "Train Epoch: 3 [47360/60000 (79%)]\tLoss: 0.074745\n",
      "Train Epoch: 3 [48000/60000 (80%)]\tLoss: 0.109218\n",
      "Train Epoch: 3 [48640/60000 (81%)]\tLoss: 0.029381\n",
      "Train Epoch: 3 [49280/60000 (82%)]\tLoss: 0.076477\n",
      "Train Epoch: 3 [49920/60000 (83%)]\tLoss: 0.070925\n",
      "Train Epoch: 3 [50560/60000 (84%)]\tLoss: 0.043255\n",
      "Train Epoch: 3 [51200/60000 (85%)]\tLoss: 0.132699\n",
      "Train Epoch: 3 [51840/60000 (86%)]\tLoss: 0.125522\n",
      "Train Epoch: 3 [52480/60000 (87%)]\tLoss: 0.032299\n",
      "Train Epoch: 3 [53120/60000 (88%)]\tLoss: 0.016090\n",
      "Train Epoch: 3 [53760/60000 (90%)]\tLoss: 0.004125\n",
      "Train Epoch: 3 [54400/60000 (91%)]\tLoss: 0.071032\n",
      "Train Epoch: 3 [55040/60000 (92%)]\tLoss: 0.055802\n",
      "Train Epoch: 3 [55680/60000 (93%)]\tLoss: 0.011532\n",
      "Train Epoch: 3 [56320/60000 (94%)]\tLoss: 0.064804\n",
      "Train Epoch: 3 [56960/60000 (95%)]\tLoss: 0.066528\n",
      "Train Epoch: 3 [57600/60000 (96%)]\tLoss: 0.044549\n",
      "Train Epoch: 3 [58240/60000 (97%)]\tLoss: 0.085696\n",
      "Train Epoch: 3 [58880/60000 (98%)]\tLoss: 0.060983\n",
      "Train Epoch: 3 [59520/60000 (99%)]\tLoss: 0.027564\n",
      "\n",
      "Test set: Average loss: 0.0304, Accuracy: 9902/10000 (99%)\n",
      "\n",
      "Train Epoch: 4 [0/60000 (0%)]\tLoss: 0.005961\n",
      "Train Epoch: 4 [640/60000 (1%)]\tLoss: 0.038965\n",
      "Train Epoch: 4 [1280/60000 (2%)]\tLoss: 0.010965\n",
      "Train Epoch: 4 [1920/60000 (3%)]\tLoss: 0.014275\n",
      "Train Epoch: 4 [2560/60000 (4%)]\tLoss: 0.108792\n",
      "Train Epoch: 4 [3200/60000 (5%)]\tLoss: 0.065275\n",
      "Train Epoch: 4 [3840/60000 (6%)]\tLoss: 0.009381\n",
      "Train Epoch: 4 [4480/60000 (7%)]\tLoss: 0.001731\n",
      "Train Epoch: 4 [5120/60000 (9%)]\tLoss: 0.045532\n",
      "Train Epoch: 4 [5760/60000 (10%)]\tLoss: 0.118287\n",
      "Train Epoch: 4 [6400/60000 (11%)]\tLoss: 0.352068\n",
      "Train Epoch: 4 [7040/60000 (12%)]\tLoss: 0.018177\n",
      "Train Epoch: 4 [7680/60000 (13%)]\tLoss: 0.134274\n",
      "Train Epoch: 4 [8320/60000 (14%)]\tLoss: 0.045520\n",
      "Train Epoch: 4 [8960/60000 (15%)]\tLoss: 0.023532\n",
      "Train Epoch: 4 [9600/60000 (16%)]\tLoss: 0.018107\n",
      "Train Epoch: 4 [10240/60000 (17%)]\tLoss: 0.053546\n",
      "Train Epoch: 4 [10880/60000 (18%)]\tLoss: 0.022981\n",
      "Train Epoch: 4 [11520/60000 (19%)]\tLoss: 0.008116\n",
      "Train Epoch: 4 [12160/60000 (20%)]\tLoss: 0.036220\n",
      "Train Epoch: 4 [12800/60000 (21%)]\tLoss: 0.105950\n",
      "Train Epoch: 4 [13440/60000 (22%)]\tLoss: 0.047855\n",
      "Train Epoch: 4 [14080/60000 (23%)]\tLoss: 0.015726\n",
      "Train Epoch: 4 [14720/60000 (25%)]\tLoss: 0.013530\n",
      "Train Epoch: 4 [15360/60000 (26%)]\tLoss: 0.033329\n",
      "Train Epoch: 4 [16000/60000 (27%)]\tLoss: 0.020797\n",
      "Train Epoch: 4 [16640/60000 (28%)]\tLoss: 0.084127\n",
      "Train Epoch: 4 [17280/60000 (29%)]\tLoss: 0.100364\n",
      "Train Epoch: 4 [17920/60000 (30%)]\tLoss: 0.017353\n",
      "Train Epoch: 4 [18560/60000 (31%)]\tLoss: 0.002702\n",
      "Train Epoch: 4 [19200/60000 (32%)]\tLoss: 0.020900\n",
      "Train Epoch: 4 [19840/60000 (33%)]\tLoss: 0.048574\n",
      "Train Epoch: 4 [20480/60000 (34%)]\tLoss: 0.034613\n",
      "Train Epoch: 4 [21120/60000 (35%)]\tLoss: 0.032690\n",
      "Train Epoch: 4 [21760/60000 (36%)]\tLoss: 0.069074\n",
      "Train Epoch: 4 [22400/60000 (37%)]\tLoss: 0.072862\n",
      "Train Epoch: 4 [23040/60000 (38%)]\tLoss: 0.018701\n",
      "Train Epoch: 4 [23680/60000 (39%)]\tLoss: 0.010107\n",
      "Train Epoch: 4 [24320/60000 (41%)]\tLoss: 0.045613\n",
      "Train Epoch: 4 [24960/60000 (42%)]\tLoss: 0.078753\n",
      "Train Epoch: 4 [25600/60000 (43%)]\tLoss: 0.017938\n",
      "Train Epoch: 4 [26240/60000 (44%)]\tLoss: 0.011546\n",
      "Train Epoch: 4 [26880/60000 (45%)]\tLoss: 0.042835\n",
      "Train Epoch: 4 [27520/60000 (46%)]\tLoss: 0.004587\n",
      "Train Epoch: 4 [28160/60000 (47%)]\tLoss: 0.004893\n",
      "Train Epoch: 4 [28800/60000 (48%)]\tLoss: 0.017246\n",
      "Train Epoch: 4 [29440/60000 (49%)]\tLoss: 0.003173\n",
      "Train Epoch: 4 [30080/60000 (50%)]\tLoss: 0.003608\n",
      "Train Epoch: 4 [30720/60000 (51%)]\tLoss: 0.051766\n",
      "Train Epoch: 4 [31360/60000 (52%)]\tLoss: 0.016565\n",
      "Train Epoch: 4 [32000/60000 (53%)]\tLoss: 0.015676\n",
      "Train Epoch: 4 [32640/60000 (54%)]\tLoss: 0.020130\n",
      "Train Epoch: 4 [33280/60000 (55%)]\tLoss: 0.024364\n",
      "Train Epoch: 4 [33920/60000 (57%)]\tLoss: 0.007795\n",
      "Train Epoch: 4 [34560/60000 (58%)]\tLoss: 0.073436\n",
      "Train Epoch: 4 [35200/60000 (59%)]\tLoss: 0.158662\n",
      "Train Epoch: 4 [35840/60000 (60%)]\tLoss: 0.066348\n",
      "Train Epoch: 4 [36480/60000 (61%)]\tLoss: 0.011971\n",
      "Train Epoch: 4 [37120/60000 (62%)]\tLoss: 0.012775\n",
      "Train Epoch: 4 [37760/60000 (63%)]\tLoss: 0.023573\n",
      "Train Epoch: 4 [38400/60000 (64%)]\tLoss: 0.004333\n",
      "Train Epoch: 4 [39040/60000 (65%)]\tLoss: 0.146230\n",
      "Train Epoch: 4 [39680/60000 (66%)]\tLoss: 0.013944\n",
      "Train Epoch: 4 [40320/60000 (67%)]\tLoss: 0.021173\n",
      "Train Epoch: 4 [40960/60000 (68%)]\tLoss: 0.006137\n",
      "Train Epoch: 4 [41600/60000 (69%)]\tLoss: 0.130096\n",
      "Train Epoch: 4 [42240/60000 (70%)]\tLoss: 0.020880\n",
      "Train Epoch: 4 [42880/60000 (71%)]\tLoss: 0.007803\n",
      "Train Epoch: 4 [43520/60000 (72%)]\tLoss: 0.091114\n",
      "Train Epoch: 4 [44160/60000 (74%)]\tLoss: 0.032058\n",
      "Train Epoch: 4 [44800/60000 (75%)]\tLoss: 0.040387\n",
      "Train Epoch: 4 [45440/60000 (76%)]\tLoss: 0.026437\n",
      "Train Epoch: 4 [46080/60000 (77%)]\tLoss: 0.013666\n",
      "Train Epoch: 4 [46720/60000 (78%)]\tLoss: 0.072171\n",
      "Train Epoch: 4 [47360/60000 (79%)]\tLoss: 0.116123\n",
      "Train Epoch: 4 [48000/60000 (80%)]\tLoss: 0.074284\n",
      "Train Epoch: 4 [48640/60000 (81%)]\tLoss: 0.026369\n",
      "Train Epoch: 4 [49280/60000 (82%)]\tLoss: 0.096067\n",
      "Train Epoch: 4 [49920/60000 (83%)]\tLoss: 0.006834\n",
      "Train Epoch: 4 [50560/60000 (84%)]\tLoss: 0.007807\n",
      "Train Epoch: 4 [51200/60000 (85%)]\tLoss: 0.109781\n",
      "Train Epoch: 4 [51840/60000 (86%)]\tLoss: 0.208762\n",
      "Train Epoch: 4 [52480/60000 (87%)]\tLoss: 0.065769\n",
      "Train Epoch: 4 [53120/60000 (88%)]\tLoss: 0.030637\n",
      "Train Epoch: 4 [53760/60000 (90%)]\tLoss: 0.098925\n",
      "Train Epoch: 4 [54400/60000 (91%)]\tLoss: 0.017283\n",
      "Train Epoch: 4 [55040/60000 (92%)]\tLoss: 0.009794\n",
      "Train Epoch: 4 [55680/60000 (93%)]\tLoss: 0.006409\n",
      "Train Epoch: 4 [56320/60000 (94%)]\tLoss: 0.027485\n",
      "Train Epoch: 4 [56960/60000 (95%)]\tLoss: 0.033393\n",
      "Train Epoch: 4 [57600/60000 (96%)]\tLoss: 0.001163\n",
      "Train Epoch: 4 [58240/60000 (97%)]\tLoss: 0.007364\n",
      "Train Epoch: 4 [58880/60000 (98%)]\tLoss: 0.013998\n",
      "Train Epoch: 4 [59520/60000 (99%)]\tLoss: 0.250201\n",
      "\n",
      "Test set: Average loss: 0.0332, Accuracy: 9887/10000 (99%)\n",
      "\n",
      "Train Epoch: 5 [0/60000 (0%)]\tLoss: 0.046797\n",
      "Train Epoch: 5 [640/60000 (1%)]\tLoss: 0.017120\n",
      "Train Epoch: 5 [1280/60000 (2%)]\tLoss: 0.066423\n",
      "Train Epoch: 5 [1920/60000 (3%)]\tLoss: 0.080427\n",
      "Train Epoch: 5 [2560/60000 (4%)]\tLoss: 0.045221\n",
      "Train Epoch: 5 [3200/60000 (5%)]\tLoss: 0.012016\n",
      "Train Epoch: 5 [3840/60000 (6%)]\tLoss: 0.004631\n",
      "Train Epoch: 5 [4480/60000 (7%)]\tLoss: 0.011605\n",
      "Train Epoch: 5 [5120/60000 (9%)]\tLoss: 0.208995\n",
      "Train Epoch: 5 [5760/60000 (10%)]\tLoss: 0.003834\n",
      "Train Epoch: 5 [6400/60000 (11%)]\tLoss: 0.046069\n",
      "Train Epoch: 5 [7040/60000 (12%)]\tLoss: 0.057656\n",
      "Train Epoch: 5 [7680/60000 (13%)]\tLoss: 0.017375\n",
      "Train Epoch: 5 [8320/60000 (14%)]\tLoss: 0.030610\n",
      "Train Epoch: 5 [8960/60000 (15%)]\tLoss: 0.003723\n",
      "Train Epoch: 5 [9600/60000 (16%)]\tLoss: 0.022610\n",
      "Train Epoch: 5 [10240/60000 (17%)]\tLoss: 0.098955\n",
      "Train Epoch: 5 [10880/60000 (18%)]\tLoss: 0.018856\n",
      "Train Epoch: 5 [11520/60000 (19%)]\tLoss: 0.026988\n",
      "Train Epoch: 5 [12160/60000 (20%)]\tLoss: 0.004648\n",
      "Train Epoch: 5 [12800/60000 (21%)]\tLoss: 0.071135\n",
      "Train Epoch: 5 [13440/60000 (22%)]\tLoss: 0.011528\n",
      "Train Epoch: 5 [14080/60000 (23%)]\tLoss: 0.008067\n",
      "Train Epoch: 5 [14720/60000 (25%)]\tLoss: 0.022421\n",
      "Train Epoch: 5 [15360/60000 (26%)]\tLoss: 0.008356\n",
      "Train Epoch: 5 [16000/60000 (27%)]\tLoss: 0.021059\n",
      "Train Epoch: 5 [16640/60000 (28%)]\tLoss: 0.004057\n",
      "Train Epoch: 5 [17280/60000 (29%)]\tLoss: 0.089082\n",
      "Train Epoch: 5 [17920/60000 (30%)]\tLoss: 0.010039\n",
      "Train Epoch: 5 [18560/60000 (31%)]\tLoss: 0.021763\n",
      "Train Epoch: 5 [19200/60000 (32%)]\tLoss: 0.008091\n",
      "Train Epoch: 5 [19840/60000 (33%)]\tLoss: 0.027700\n",
      "Train Epoch: 5 [20480/60000 (34%)]\tLoss: 0.025279\n",
      "Train Epoch: 5 [21120/60000 (35%)]\tLoss: 0.002513\n",
      "Train Epoch: 5 [21760/60000 (36%)]\tLoss: 0.024417\n",
      "Train Epoch: 5 [22400/60000 (37%)]\tLoss: 0.068269\n",
      "Train Epoch: 5 [23040/60000 (38%)]\tLoss: 0.002015\n",
      "Train Epoch: 5 [23680/60000 (39%)]\tLoss: 0.023171\n",
      "Train Epoch: 5 [24320/60000 (41%)]\tLoss: 0.006532\n",
      "Train Epoch: 5 [24960/60000 (42%)]\tLoss: 0.062580\n",
      "Train Epoch: 5 [25600/60000 (43%)]\tLoss: 0.035414\n",
      "Train Epoch: 5 [26240/60000 (44%)]\tLoss: 0.046458\n",
      "Train Epoch: 5 [26880/60000 (45%)]\tLoss: 0.002740\n",
      "Train Epoch: 5 [27520/60000 (46%)]\tLoss: 0.018497\n",
      "Train Epoch: 5 [28160/60000 (47%)]\tLoss: 0.004695\n",
      "Train Epoch: 5 [28800/60000 (48%)]\tLoss: 0.005154\n",
      "Train Epoch: 5 [29440/60000 (49%)]\tLoss: 0.044738\n",
      "Train Epoch: 5 [30080/60000 (50%)]\tLoss: 0.119538\n",
      "Train Epoch: 5 [30720/60000 (51%)]\tLoss: 0.035446\n",
      "Train Epoch: 5 [31360/60000 (52%)]\tLoss: 0.045730\n",
      "Train Epoch: 5 [32000/60000 (53%)]\tLoss: 0.005904\n",
      "Train Epoch: 5 [32640/60000 (54%)]\tLoss: 0.074224\n",
      "Train Epoch: 5 [33280/60000 (55%)]\tLoss: 0.077952\n",
      "Train Epoch: 5 [33920/60000 (57%)]\tLoss: 0.014146\n",
      "Train Epoch: 5 [34560/60000 (58%)]\tLoss: 0.132208\n",
      "Train Epoch: 5 [35200/60000 (59%)]\tLoss: 0.069274\n",
      "Train Epoch: 5 [35840/60000 (60%)]\tLoss: 0.003972\n",
      "Train Epoch: 5 [36480/60000 (61%)]\tLoss: 0.009881\n",
      "Train Epoch: 5 [37120/60000 (62%)]\tLoss: 0.014903\n",
      "Train Epoch: 5 [37760/60000 (63%)]\tLoss: 0.007973\n",
      "Train Epoch: 5 [38400/60000 (64%)]\tLoss: 0.035727\n",
      "Train Epoch: 5 [39040/60000 (65%)]\tLoss: 0.031612\n",
      "Train Epoch: 5 [39680/60000 (66%)]\tLoss: 0.009778\n",
      "Train Epoch: 5 [40320/60000 (67%)]\tLoss: 0.022102\n",
      "Train Epoch: 5 [40960/60000 (68%)]\tLoss: 0.021775\n",
      "Train Epoch: 5 [41600/60000 (69%)]\tLoss: 0.043063\n",
      "Train Epoch: 5 [42240/60000 (70%)]\tLoss: 0.043365\n",
      "Train Epoch: 5 [42880/60000 (71%)]\tLoss: 0.005112\n",
      "Train Epoch: 5 [43520/60000 (72%)]\tLoss: 0.110443\n",
      "Train Epoch: 5 [44160/60000 (74%)]\tLoss: 0.008832\n",
      "Train Epoch: 5 [44800/60000 (75%)]\tLoss: 0.003170\n",
      "Train Epoch: 5 [45440/60000 (76%)]\tLoss: 0.058611\n",
      "Train Epoch: 5 [46080/60000 (77%)]\tLoss: 0.049101\n",
      "Train Epoch: 5 [46720/60000 (78%)]\tLoss: 0.005693\n",
      "Train Epoch: 5 [47360/60000 (79%)]\tLoss: 0.026934\n",
      "Train Epoch: 5 [48000/60000 (80%)]\tLoss: 0.010177\n",
      "Train Epoch: 5 [48640/60000 (81%)]\tLoss: 0.013500\n",
      "Train Epoch: 5 [49280/60000 (82%)]\tLoss: 0.003767\n",
      "Train Epoch: 5 [49920/60000 (83%)]\tLoss: 0.012231\n",
      "Train Epoch: 5 [50560/60000 (84%)]\tLoss: 0.060405\n",
      "Train Epoch: 5 [51200/60000 (85%)]\tLoss: 0.010924\n",
      "Train Epoch: 5 [51840/60000 (86%)]\tLoss: 0.061216\n",
      "Train Epoch: 5 [52480/60000 (87%)]\tLoss: 0.010597\n",
      "Train Epoch: 5 [53120/60000 (88%)]\tLoss: 0.012368\n",
      "Train Epoch: 5 [53760/60000 (90%)]\tLoss: 0.013869\n",
      "Train Epoch: 5 [54400/60000 (91%)]\tLoss: 0.015130\n",
      "Train Epoch: 5 [55040/60000 (92%)]\tLoss: 0.002239\n",
      "Train Epoch: 5 [55680/60000 (93%)]\tLoss: 0.164330\n",
      "Train Epoch: 5 [56320/60000 (94%)]\tLoss: 0.003270\n",
      "Train Epoch: 5 [56960/60000 (95%)]\tLoss: 0.021694\n",
      "Train Epoch: 5 [57600/60000 (96%)]\tLoss: 0.017513\n",
      "Train Epoch: 5 [58240/60000 (97%)]\tLoss: 0.057306\n",
      "Train Epoch: 5 [58880/60000 (98%)]\tLoss: 0.013409\n",
      "Train Epoch: 5 [59520/60000 (99%)]\tLoss: 0.016761\n",
      "\n",
      "Test set: Average loss: 0.0303, Accuracy: 9901/10000 (99%)\n",
      "\n"
     ]
    }
   ],
   "source": [
    "scheduler = StepLR(optimizer, step_size=1, gamma=args.gamma)\n",
    "for epoch in range(1, args.epochs + 1):\n",
    "    train(args, model, device, train_loader, optimizer, epoch)\n",
    "    test(model, device, test_loader)\n",
    "    scheduler.step()"
   ]
  },
  {
   "cell_type": "markdown",
   "metadata": {},
   "source": [
    "## Slow Parts mentioned in Profiles\n",
    "\n",
    "* NllLossBackward"
   ]
  },
  {
   "cell_type": "code",
   "execution_count": 116,
   "metadata": {
    "execution": {
     "iopub.execute_input": "2020-08-23T21:52:33.922978Z",
     "iopub.status.busy": "2020-08-23T21:52:33.922751Z",
     "iopub.status.idle": "2020-08-23T21:52:33.928142Z",
     "shell.execute_reply": "2020-08-23T21:52:33.927575Z",
     "shell.execute_reply.started": "2020-08-23T21:52:33.922953Z"
    }
   },
   "outputs": [
    {
     "name": "stdout",
     "output_type": "stream",
     "text": [
      "tensor(1.0986, grad_fn=<NllLossBackward>)\n"
     ]
    }
   ],
   "source": [
    "m = nn.LogSoftmax(dim=1)\n",
    "loss = nn.NLLLoss()\n",
    "# input is of size N x C = 1 x 3\n",
    "input = torch.tensor([[0,0,0]], requires_grad=True, dtype=torch.float)\n",
    "# each element in target has to have 0 <= value < C\n",
    "target = torch.tensor([1])\n",
    "output = loss(m(input), target)\n",
    "print(output)"
   ]
  },
  {
   "cell_type": "code",
   "execution_count": 118,
   "metadata": {
    "execution": {
     "iopub.execute_input": "2020-08-23T21:53:39.190826Z",
     "iopub.status.busy": "2020-08-23T21:53:39.190462Z",
     "iopub.status.idle": "2020-08-23T21:53:39.196444Z",
     "shell.execute_reply": "2020-08-23T21:53:39.195807Z",
     "shell.execute_reply.started": "2020-08-23T21:53:39.190798Z"
    }
   },
   "outputs": [
    {
     "data": {
      "text/plain": [
       "\u001b[0;31mSignature:\u001b[0m\n",
       "\u001b[0mF\u001b[0m\u001b[0;34m.\u001b[0m\u001b[0mnll_loss\u001b[0m\u001b[0;34m(\u001b[0m\u001b[0;34m\u001b[0m\n",
       "\u001b[0;34m\u001b[0m    \u001b[0minput\u001b[0m\u001b[0;34m,\u001b[0m\u001b[0;34m\u001b[0m\n",
       "\u001b[0;34m\u001b[0m    \u001b[0mtarget\u001b[0m\u001b[0;34m,\u001b[0m\u001b[0;34m\u001b[0m\n",
       "\u001b[0;34m\u001b[0m    \u001b[0mweight\u001b[0m\u001b[0;34m=\u001b[0m\u001b[0;32mNone\u001b[0m\u001b[0;34m,\u001b[0m\u001b[0;34m\u001b[0m\n",
       "\u001b[0;34m\u001b[0m    \u001b[0msize_average\u001b[0m\u001b[0;34m=\u001b[0m\u001b[0;32mNone\u001b[0m\u001b[0;34m,\u001b[0m\u001b[0;34m\u001b[0m\n",
       "\u001b[0;34m\u001b[0m    \u001b[0mignore_index\u001b[0m\u001b[0;34m=\u001b[0m\u001b[0;34m-\u001b[0m\u001b[0;36m100\u001b[0m\u001b[0;34m,\u001b[0m\u001b[0;34m\u001b[0m\n",
       "\u001b[0;34m\u001b[0m    \u001b[0mreduce\u001b[0m\u001b[0;34m=\u001b[0m\u001b[0;32mNone\u001b[0m\u001b[0;34m,\u001b[0m\u001b[0;34m\u001b[0m\n",
       "\u001b[0;34m\u001b[0m    \u001b[0mreduction\u001b[0m\u001b[0;34m=\u001b[0m\u001b[0;34m'mean'\u001b[0m\u001b[0;34m,\u001b[0m\u001b[0;34m\u001b[0m\n",
       "\u001b[0;34m\u001b[0m\u001b[0;34m)\u001b[0m\u001b[0;34m\u001b[0m\u001b[0;34m\u001b[0m\u001b[0m\n",
       "\u001b[0;31mDocstring:\u001b[0m\n",
       "The negative log likelihood loss.\n",
       "\n",
       "See :class:`~torch.nn.NLLLoss` for details.\n",
       "\n",
       "Args:\n",
       "    input: :math:`(N, C)` where `C = number of classes` or :math:`(N, C, H, W)`\n",
       "        in case of 2D Loss, or :math:`(N, C, d_1, d_2, ..., d_K)` where :math:`K \\geq 1`\n",
       "        in the case of K-dimensional loss.\n",
       "    target: :math:`(N)` where each value is :math:`0 \\leq \\text{targets}[i] \\leq C-1`,\n",
       "        or :math:`(N, d_1, d_2, ..., d_K)` where :math:`K \\geq 1` for\n",
       "        K-dimensional loss.\n",
       "    weight (Tensor, optional): a manual rescaling weight given to each\n",
       "        class. If given, has to be a Tensor of size `C`\n",
       "    size_average (bool, optional): Deprecated (see :attr:`reduction`). By default,\n",
       "        the losses are averaged over each loss element in the batch. Note that for\n",
       "        some losses, there multiple elements per sample. If the field :attr:`size_average`\n",
       "        is set to ``False``, the losses are instead summed for each minibatch. Ignored\n",
       "        when reduce is ``False``. Default: ``True``\n",
       "    ignore_index (int, optional): Specifies a target value that is ignored\n",
       "        and does not contribute to the input gradient. When :attr:`size_average` is\n",
       "        ``True``, the loss is averaged over non-ignored targets. Default: -100\n",
       "    reduce (bool, optional): Deprecated (see :attr:`reduction`). By default, the\n",
       "        losses are averaged or summed over observations for each minibatch depending\n",
       "        on :attr:`size_average`. When :attr:`reduce` is ``False``, returns a loss per\n",
       "        batch element instead and ignores :attr:`size_average`. Default: ``True``\n",
       "    reduction (string, optional): Specifies the reduction to apply to the output:\n",
       "        ``'none'`` | ``'mean'`` | ``'sum'``. ``'none'``: no reduction will be applied,\n",
       "        ``'mean'``: the sum of the output will be divided by the number of\n",
       "        elements in the output, ``'sum'``: the output will be summed. Note: :attr:`size_average`\n",
       "        and :attr:`reduce` are in the process of being deprecated, and in the meantime,\n",
       "        specifying either of those two args will override :attr:`reduction`. Default: ``'mean'``\n",
       "\n",
       "Example::\n",
       "\n",
       "    >>> # input is of size N x C = 3 x 5\n",
       "    >>> input = torch.randn(3, 5, requires_grad=True)\n",
       "    >>> # each element in target has to have 0 <= value < C\n",
       "    >>> target = torch.tensor([1, 0, 4])\n",
       "    >>> output = F.nll_loss(F.log_softmax(input), target)\n",
       "    >>> output.backward()\n",
       "\u001b[0;31mFile:\u001b[0m      /opt/conda/lib/python3.7/site-packages/torch/nn/functional.py\n",
       "\u001b[0;31mType:\u001b[0m      function\n"
      ]
     },
     "metadata": {},
     "output_type": "display_data"
    }
   ],
   "source": [
    "F.nll_loss?"
   ]
  },
  {
   "cell_type": "code",
   "execution_count": null,
   "metadata": {},
   "outputs": [],
   "source": []
  }
 ],
 "metadata": {
  "kernelspec": {
   "display_name": "Python 3",
   "language": "python",
   "name": "python3"
  },
  "language_info": {
   "codemirror_mode": {
    "name": "ipython",
    "version": 3
   },
   "file_extension": ".py",
   "mimetype": "text/x-python",
   "name": "python",
   "nbconvert_exporter": "python",
   "pygments_lexer": "ipython3",
   "version": "3.7.8"
  }
 },
 "nbformat": 4,
 "nbformat_minor": 4
}
